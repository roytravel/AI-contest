import pandas as pd
import numpy as np

trn = pd.read_csv('.kaggle/santander-product-recommendation/train_ver2.csv')

# csv 파일의 행과 열의 개수 확인
print (trn.shape)

# 모든 feature의 5줄 확인
for col in trn.columns:
    print ("{}\n".format(trn[col].head()))


print (trn.info())

num_cols = [col for col in trn.columns[:24] if trn[col].dtype in ['int64', 'float64']]

print (trn[num_cols].describe())






