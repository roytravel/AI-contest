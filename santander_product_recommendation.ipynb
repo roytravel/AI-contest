import pandas as pd
import numpy as np

trn = pd.read_csv('.kaggle/santander-product-recommendation/train_ver2.csv')

# csv 파일의 행과 열의 개수 확인
print (trn.shape)

# 모든 feature의 5줄 확인
for col in trn.columns:
    print ("{}\n".format(trn[col].head()))









