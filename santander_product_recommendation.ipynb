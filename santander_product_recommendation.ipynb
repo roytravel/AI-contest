import pandas as pd
import numpy as np

# Chcunk를 분할하여 담을 리스트 생성
chunk_box = list()

# chcunk를 읽어와서 chunk_box에 추가
for chunk in pd.read_csv('C:/Users/roytravel/.kaggle/santander-product-recommendation/train_ver2.csv', low_memory=False, chunksize=20000):
    chunk_box.append(chunk)

# chcunk_box에 존재하는 데이터 프레임 결합
trn = pd.concat(chunk_box, axis = 0)

# 불필요한 리스트 변수 삭제
del chunk_box

# 데이터 프레임의 행과 열의 개수 확인
print (trn.shape)

#모든 feature의 5줄 확인
for col in trn.columns:
    print ("{}\n".format(trn[col].head()))

# feature의 Type 확인
print (trn.info())

num_cols = [col for col in trn.columns[:24] if trn[col].dtype in ['int64', 'float64']]

# feature의 평균, 표준, 최소, 최대 등 확인
print (trn[num_cols].describe())
