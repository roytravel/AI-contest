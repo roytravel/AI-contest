import pandas as pd
import numpy as np

trn = pd.read_csv('../santander-product-recommendation/train_ver2.csv')
print (trn.shape)
